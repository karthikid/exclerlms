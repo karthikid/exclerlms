{
  "nbformat": 4,
  "nbformat_minor": 0,
  "metadata": {
    "colab": {
      "provenance": [],
      "authorship_tag": "ABX9TyPjrxuWQoNEmeFaGsBnmcVp",
      "include_colab_link": true
    },
    "kernelspec": {
      "name": "python3",
      "display_name": "Python 3"
    },
    "language_info": {
      "name": "python"
    }
  },
  "cells": [
    {
      "cell_type": "markdown",
      "metadata": {
        "id": "view-in-github",
        "colab_type": "text"
      },
      "source": [
        "<a href=\"https://colab.research.google.com/github/karthikid/exclerlms/blob/main/day26.ipynb\" target=\"_parent\"><img src=\"https://colab.research.google.com/assets/colab-badge.svg\" alt=\"Open In Colab\"/></a>"
      ]
    },
    {
      "cell_type": "code",
      "source": [
        "from sklearn.feature_extraction.text import TfidfVectorizer\n",
        "from sklearn.metrics.pairwise import cosine_similarity\n",
        "\n",
        "def calculate_cosine_similarity(string1, string2):\n",
        "    \"\"\"Calculates the cosine similarity between two strings using TF-IDF.\n",
        "\n",
        "    Args:\n",
        "        string1: The first string.\n",
        "        string2: The second string.\n",
        "\n",
        "    Returns:\n",
        "        The cosine similarity score between the two strings.\n",
        "    \"\"\"\n",
        "    # Create a TfidfVectorizer object\n",
        "    vectorizer = TfidfVectorizer()\n",
        "\n",
        "    # Fit the vectorizer to the strings\n",
        "    tfidf_matrix = vectorizer.fit_transform([string1, string2])\n",
        "\n",
        "    # Calculate the cosine similarity\n",
        "    similarity_score = cosine_similarity(tfidf_matrix[0], tfidf_matrix[1])\n",
        "\n",
        "    return similarity_score[0][0]\n",
        "\n",
        "# Example usage\n",
        "string1 = \"This is the first string.\"\n",
        "string2 = \"This is the second string.\"\n",
        "\n",
        "similarity = calculate_cosine_similarity(string1, string2)\n",
        "print(f\"Cosine similarity: {similarity}\")"
      ],
      "metadata": {
        "colab": {
          "base_uri": "https://localhost:8080/"
        },
        "id": "ImggMnAjTTwN",
        "outputId": "bddee614-e28b-489c-b800-f5800bc03d8d"
      },
      "execution_count": 41,
      "outputs": [
        {
          "output_type": "stream",
          "name": "stdout",
          "text": [
            "Cosine similarity: 0.6694188517266485\n"
          ]
        }
      ]
    }
  ]
}