{
  "nbformat": 4,
  "nbformat_minor": 0,
  "metadata": {
    "colab": {
      "provenance": [],
      "authorship_tag": "ABX9TyNZkVMn7oqPB/u+J4U5l81R",
      "include_colab_link": true
    },
    "kernelspec": {
      "name": "python3",
      "display_name": "Python 3"
    },
    "language_info": {
      "name": "python"
    }
  },
  "cells": [
    {
      "cell_type": "markdown",
      "metadata": {
        "id": "view-in-github",
        "colab_type": "text"
      },
      "source": [
        "<a href=\"https://colab.research.google.com/github/karthikid/exclerlms/blob/main/day5.ipynb\" target=\"_parent\"><img src=\"https://colab.research.google.com/assets/colab-badge.svg\" alt=\"Open In Colab\"/></a>"
      ]
    },
    {
      "cell_type": "code",
      "execution_count": 6,
      "metadata": {
        "colab": {
          "base_uri": "https://localhost:8080/"
        },
        "id": "V-tYsVZYLKEW",
        "outputId": "3a0eacad-b81d-4e84-cf29-c0d5e66eacb9"
      },
      "outputs": [
        {
          "output_type": "stream",
          "name": "stdout",
          "text": [
            "the: 3\n",
            "quick: 1\n",
            "brown: 1\n",
            "fox: 1\n",
            "jumps: 1\n",
            "over: 1\n",
            "lazy: 1\n",
            "dog: 2\n"
          ]
        }
      ],
      "source": [
        "def calculate_word_frequency(text):\n",
        "    words = text.split()\n",
        "    word_frequency = {}\n",
        "    for word in words:\n",
        "        if word in word_frequency:\n",
        "            word_frequency[word] += 1\n",
        "        else:\n",
        "            word_frequency[word] = 1\n",
        "\n",
        "    for word, count in word_frequency.items():\n",
        "        print(f'{word}: {count}')\n",
        "\n",
        "text = \"the quick brown fox jumps over the lazy dog the dog\"\n",
        "calculate_word_frequency(text)\n",
        "\n"
      ]
    }
  ]
}