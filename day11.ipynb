{
  "nbformat": 4,
  "nbformat_minor": 0,
  "metadata": {
    "colab": {
      "provenance": [],
      "authorship_tag": "ABX9TyPMJng+qwbY1ZoPa3YKrTQW",
      "include_colab_link": true
    },
    "kernelspec": {
      "name": "python3",
      "display_name": "Python 3"
    },
    "language_info": {
      "name": "python"
    }
  },
  "cells": [
    {
      "cell_type": "markdown",
      "metadata": {
        "id": "view-in-github",
        "colab_type": "text"
      },
      "source": [
        "<a href=\"https://colab.research.google.com/github/karthikid/exclerlms/blob/main/day11.ipynb\" target=\"_parent\"><img src=\"https://colab.research.google.com/assets/colab-badge.svg\" alt=\"Open In Colab\"/></a>"
      ]
    },
    {
      "cell_type": "code",
      "source": [
        "import nltk\n",
        "nltk.download('punkt')\n",
        "nltk.download('averaged_perceptron_tagger')\n",
        "\n",
        "def tokenize_text(text):\n",
        "    \"\"\"Tokenizes a paragraph into sentences and words using NLTK.\n",
        "\n",
        "    Args:\n",
        "        text: The input paragraph.\n",
        "\n",
        "    Returns:\n",
        "        A tuple containing two lists: sentences and words.\n",
        "    \"\"\"\n",
        "    sentences = nltk.sent_tokenize(text)  # Tokenize into sentences\n",
        "    words = []\n",
        "    for sentence in sentences:\n",
        "        words.extend(nltk.word_tokenize(sentence))  # Tokenize each sentence into words\n",
        "    return sentences, words\n",
        "\n",
        "\n",
        "# Sample paragraph\n",
        "paragraph = \"This is a sample paragraph. It contains multiple sentences. Let's see how it's tokenized.\"\n",
        "\n",
        "# Tokenize the paragraph\n",
        "sentences, words = tokenize_text(paragraph)\n",
        "\n",
        "# Print the results\n",
        "print(\"Sentences:\", sentences)\n",
        "print(\"Words:\", words)"
      ],
      "metadata": {
        "colab": {
          "base_uri": "https://localhost:8080/"
        },
        "id": "c9OTBrQrSkmC",
        "outputId": "f22605c5-277f-4a89-ae62-7c6135e73474"
      },
      "execution_count": 23,
      "outputs": [
        {
          "output_type": "stream",
          "name": "stdout",
          "text": [
            "Sentences: ['This is a sample paragraph.', 'It contains multiple sentences.', \"Let's see how it's tokenized.\"]\n",
            "Words: ['This', 'is', 'a', 'sample', 'paragraph', '.', 'It', 'contains', 'multiple', 'sentences', '.', 'Let', \"'s\", 'see', 'how', 'it', \"'s\", 'tokenized', '.']\n"
          ]
        },
        {
          "output_type": "stream",
          "name": "stderr",
          "text": [
            "[nltk_data] Downloading package punkt to /root/nltk_data...\n",
            "[nltk_data]   Package punkt is already up-to-date!\n",
            "[nltk_data] Downloading package averaged_perceptron_tagger to\n",
            "[nltk_data]     /root/nltk_data...\n",
            "[nltk_data]   Package averaged_perceptron_tagger is already up-to-\n",
            "[nltk_data]       date!\n"
          ]
        }
      ]
    }
  ]
}