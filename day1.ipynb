{
  "nbformat": 4,
  "nbformat_minor": 0,
  "metadata": {
    "colab": {
      "provenance": [],
      "authorship_tag": "ABX9TyMJFJLv+kxZHUerFuRVln4l",
      "include_colab_link": true
    },
    "kernelspec": {
      "name": "python3",
      "display_name": "Python 3"
    },
    "language_info": {
      "name": "python"
    }
  },
  "cells": [
    {
      "cell_type": "markdown",
      "metadata": {
        "id": "view-in-github",
        "colab_type": "text"
      },
      "source": [
        "<a href=\"https://colab.research.google.com/github/karthikid/exclerlms/blob/main/day1.ipynb\" target=\"_parent\"><img src=\"https://colab.research.google.com/assets/colab-badge.svg\" alt=\"Open In Colab\"/></a>"
      ]
    },
    {
      "cell_type": "code",
      "execution_count": 1,
      "metadata": {
        "colab": {
          "base_uri": "https://localhost:8080/"
        },
        "id": "V-tYsVZYLKEW",
        "outputId": "cf5bdc43-0c79-4fa7-badb-7626d473aebd"
      },
      "outputs": [
        {
          "output_type": "stream",
          "name": "stdout",
          "text": [
            "integer_variable=10, type(integer_variable)=<class 'int'>\n",
            "float_variable=3.14, type(float_variable)=<class 'float'>\n",
            "string_variable='Hello, world!', type(string_variable)=<class 'str'>\n",
            "boolean_variable=True, type(boolean_variable)=<class 'bool'>\n"
          ]
        }
      ],
      "source": [
        "integer_variable = 10\n",
        "float_variable = 3.14\n",
        "string_variable = \"Hello, world!\"\n",
        "boolean_variable = True\n",
        "print(f\"{integer_variable=}, {type(integer_variable)=}\")\n",
        "print(f\"{float_variable=}, {type(float_variable)=}\")\n",
        "print(f\"{string_variable=}, {type(string_variable)=}\")\n",
        "print(f\"{boolean_variable=}, {type(boolean_variable)=}\")"
      ]
    }
  ]
}