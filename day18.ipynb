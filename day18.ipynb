{
  "nbformat": 4,
  "nbformat_minor": 0,
  "metadata": {
    "colab": {
      "provenance": [],
      "authorship_tag": "ABX9TyPLq9g01RaT4obLfJUsPwdW",
      "include_colab_link": true
    },
    "kernelspec": {
      "name": "python3",
      "display_name": "Python 3"
    },
    "language_info": {
      "name": "python"
    }
  },
  "cells": [
    {
      "cell_type": "markdown",
      "metadata": {
        "id": "view-in-github",
        "colab_type": "text"
      },
      "source": [
        "<a href=\"https://colab.research.google.com/github/karthikid/exclerlms/blob/main/day18.ipynb\" target=\"_parent\"><img src=\"https://colab.research.google.com/assets/colab-badge.svg\" alt=\"Open In Colab\"/></a>"
      ]
    },
    {
      "cell_type": "code",
      "source": [
        "import requests\n",
        "from bs4 import BeautifulSoup\n",
        "\n",
        "def get_page_title(url):\n",
        "    \"\"\"Fetches the title of a webpage using requests and BeautifulSoup.\n",
        "\n",
        "    Args:\n",
        "        url: The URL of the webpage.\n",
        "\n",
        "    Returns:\n",
        "        The title of the webpage, or None if an error occurs.\n",
        "    \"\"\"\n",
        "    try:\n",
        "        response = requests.get(url)\n",
        "        response.raise_for_status()  # Raise an exception for bad status codes\n",
        "        soup = BeautifulSoup(response.content, 'html.parser')\n",
        "        title = soup.title.string\n",
        "        return title\n",
        "    except requests.exceptions.RequestException as e:\n",
        "        print(f\"Error fetching URL: {e}\")\n",
        "        return None\n",
        "    except AttributeError:\n",
        "        print(\"Error: Could not find title tag.\")\n",
        "        return None\n",
        "\n",
        "# Example usage\n",
        "url = 'https://example.com'\n",
        "title = get_page_title(url)\n",
        "\n",
        "if title:\n",
        "    print(f\"The title of the webpage is: {title}\")"
      ],
      "metadata": {
        "colab": {
          "base_uri": "https://localhost:8080/"
        },
        "id": "ImggMnAjTTwN",
        "outputId": "ddadafdd-0b24-425c-fa0c-88cc7672e088"
      },
      "execution_count": 27,
      "outputs": [
        {
          "output_type": "stream",
          "name": "stdout",
          "text": [
            "The title of the webpage is: Example Domain\n"
          ]
        }
      ]
    }
  ]
}